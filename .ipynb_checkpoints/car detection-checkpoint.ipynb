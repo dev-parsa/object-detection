{
 "cells": [
  {
   "cell_type": "code",
   "execution_count": null,
   "metadata": {},
   "outputs": [],
   "source": [
    "!pip install super-gradients==3.1.0\n",
    "!pip install imutils"
   ]
  },
  {
   "cell_type": "code",
   "execution_count": null,
   "metadata": {},
   "outputs": [],
   "source": [
    "from super_gradients.training import models\n",
    "\n",
    "yolo_nas_l = models.get(\"yolo_nas_l\", pretrained_weights=\"coco\")"
   ]
  },
  {
   "cell_type": "markdown",
   "metadata": {},
   "source": [
    "The summary() function takes the following parameters:\n",
    "\n",
    "model: The PyTorch model to be summarized (yolo_nas_l in this case).<br/>\n",
    "input_size: The size of the input tensor (batch size, number of channels, height, width).<br/>\n",
    "col_names: A list of column names to be displayed in the summary table.<br/>\n",
    "col_width: The width of each column in the summary table.<br/>\n",
    "row_settings: A list of row settings to customize the summary table (in this case, we use [\"var_names\"] to display variable names in each row).<br/>\n",
    "After executing the code, the summary of the model architecture will be displayed, showing the input and output sizes, the number of parameters, and the trainable status for each layer of the model."
   ]
  },
  {
   "cell_type": "code",
   "execution_count": null,
   "metadata": {},
   "outputs": [],
   "source": [
    "!pip install torchinfo\n",
    "from torchinfo import summary\n",
    "\n",
    "summary(model=yolo_nas_l, \n",
    "        input_size=(16, 3, 640, 640),\n",
    "        col_names=[\"input_size\", \"output_size\", \"num_params\", \"trainable\"],\n",
    "        col_width=20,\n",
    "        row_settings=[\"var_names\"]\n",
    ")"
   ]
  },
  {
   "cell_type": "code",
   "execution_count": null,
   "metadata": {},
   "outputs": [],
   "source": [
    "import torch\n",
    "device = 'cuda' if torch.cuda.is_available() else \"cpu\""
   ]
  },
  {
   "cell_type": "code",
   "execution_count": null,
   "metadata": {},
   "outputs": [],
   "source": [
    "input_video_path = \"./cars.mp4\"\n",
    "output_video_path = \"./detection.mp4\""
   ]
  },
  {
   "cell_type": "code",
   "execution_count": null,
   "metadata": {},
   "outputs": [],
   "source": [
    "yolo_nas_l.to(device).predict(input_video_path).save(output_video_path)"
   ]
  }
 ],
 "metadata": {
  "kernelspec": {
   "display_name": "Python 3 (ipykernel)",
   "language": "python",
   "name": "python3"
  },
  "language_info": {
   "codemirror_mode": {
    "name": "ipython",
    "version": 3
   },
   "file_extension": ".py",
   "mimetype": "text/x-python",
   "name": "python",
   "nbconvert_exporter": "python",
   "pygments_lexer": "ipython3",
   "version": "3.11.0"
  }
 },
 "nbformat": 4,
 "nbformat_minor": 2
}
